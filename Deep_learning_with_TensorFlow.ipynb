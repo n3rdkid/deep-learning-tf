{
  "nbformat": 4,
  "nbformat_minor": 0,
  "metadata": {
    "colab": {
      "name": "Deep learning with TensorFlow",
      "provenance": [],
      "collapsed_sections": []
    },
    "kernelspec": {
      "name": "python3",
      "display_name": "Python 3"
    },
    "language_info": {
      "name": "python"
    },
    "accelerator": "GPU"
  },
  "cells": [
    {
      "cell_type": "markdown",
      "metadata": {
        "id": "cuqIzWyEXax3"
      },
      "source": [
        "Introduction to Tensors"
      ]
    },
    {
      "cell_type": "code",
      "metadata": {
        "colab": {
          "base_uri": "https://localhost:8080/",
          "height": 35
        },
        "id": "vxNdlsO0bj7t",
        "outputId": "fce270c0-c8b9-4500-d05c-1048ca526f9a"
      },
      "source": [
        "import tensorflow as tf\n",
        "tf.__version__"
      ],
      "execution_count": null,
      "outputs": [
        {
          "output_type": "execute_result",
          "data": {
            "application/vnd.google.colaboratory.intrinsic+json": {
              "type": "string"
            },
            "text/plain": [
              "'2.5.0'"
            ]
          },
          "metadata": {
            "tags": []
          },
          "execution_count": 1
        }
      ]
    },
    {
      "cell_type": "code",
      "metadata": {
        "colab": {
          "base_uri": "https://localhost:8080/"
        },
        "id": "rQjz4SxfcRju",
        "outputId": "8bbcb7a9-faa8-42a0-b1d0-a0dbbd2b1f0e"
      },
      "source": [
        "# Creating Tensors with `tf.constant()` #Scalar => Quantity\n",
        "scalar=tf.constant(22)\n",
        "scalar"
      ],
      "execution_count": null,
      "outputs": [
        {
          "output_type": "execute_result",
          "data": {
            "text/plain": [
              "<tf.Tensor: shape=(), dtype=int32, numpy=22>"
            ]
          },
          "metadata": {
            "tags": []
          },
          "execution_count": 2
        }
      ]
    },
    {
      "cell_type": "code",
      "metadata": {
        "colab": {
          "base_uri": "https://localhost:8080/"
        },
        "id": "C_Eax6HxcvvL",
        "outputId": "31ebcec7-5f35-49f9-c3bb-12bd520fabf4"
      },
      "source": [
        "# Checking the number of dimensions of a tensor `ndim => Number of dimensions`\n",
        "scalar.ndim"
      ],
      "execution_count": null,
      "outputs": [
        {
          "output_type": "execute_result",
          "data": {
            "text/plain": [
              "0"
            ]
          },
          "metadata": {
            "tags": []
          },
          "execution_count": 3
        }
      ]
    },
    {
      "cell_type": "code",
      "metadata": {
        "colab": {
          "base_uri": "https://localhost:8080/"
        },
        "id": "gFZNPLpDdal_",
        "outputId": "026c07be-b948-4176-b344-ccaff7e32345"
      },
      "source": [
        "# Creating a vector #Vector => Quantity that has magnitue and direction\n",
        "vector = tf.constant([8,22])\n",
        "print(vector)\n",
        "print(\"Dimensions of vector::\",vector.ndim)"
      ],
      "execution_count": null,
      "outputs": [
        {
          "output_type": "stream",
          "text": [
            "tf.Tensor([ 8 22], shape=(2,), dtype=int32)\n",
            "Dimensions of vector:: 1\n"
          ],
          "name": "stdout"
        }
      ]
    },
    {
      "cell_type": "code",
      "metadata": {
        "colab": {
          "base_uri": "https://localhost:8080/"
        },
        "id": "8U3GmWiGdx1M",
        "outputId": "6285fd8f-fcfb-40bc-be1b-e5bd55cea327"
      },
      "source": [
        "# Checking with a matrix #Matrix=> Rectangular array of numbers\n",
        "matrix = tf.constant([[4,22],[8,22]])\n",
        "print(matrix)\n",
        "print(\"Dimensions of matrix::\",matrix.ndim)"
      ],
      "execution_count": null,
      "outputs": [
        {
          "output_type": "stream",
          "text": [
            "tf.Tensor(\n",
            "[[ 4 22]\n",
            " [ 8 22]], shape=(2, 2), dtype=int32)\n",
            "Dimensions of matrix:: 2\n"
          ],
          "name": "stdout"
        }
      ]
    },
    {
      "cell_type": "code",
      "metadata": {
        "colab": {
          "base_uri": "https://localhost:8080/"
        },
        "id": "YXCM6mUKegBJ",
        "outputId": "36738619-7cad-4de9-94a8-b7455b87c1b4"
      },
      "source": [
        "matrix = tf.constant([[1,3,4],\n",
        "                      [3,0,4]])\n",
        "print(matrix)\n",
        "print(matrix.shape)\n",
        "print(\"Dimensions of 2*3 ::\",matrix.ndim) "
      ],
      "execution_count": null,
      "outputs": [
        {
          "output_type": "stream",
          "text": [
            "tf.Tensor(\n",
            "[[1 3 4]\n",
            " [3 0 4]], shape=(2, 3), dtype=int32)\n",
            "(2, 3)\n",
            "Dimensions of 2*3 :: 2\n"
          ],
          "name": "stdout"
        }
      ]
    },
    {
      "cell_type": "markdown",
      "metadata": {
        "id": "bAS3ATwygFjG"
      },
      "source": [
        "###Properties of tensor\n",
        "\n",
        "1.Name\n",
        "\n",
        "2.Shape\n",
        "\n",
        "``` tf.shape```\n",
        "\n",
        "    The shape of a tensor is the number of elements in each dimension. i.e. length of each dimension\n",
        "\n",
        "        m*n (m=no of rows & n=no. of columns for 2 dimensional)\n",
        "\n",
        "3. Rank\n",
        "    No of tensor dimension\n",
        "    \n",
        "    ```tf.ndim```\n",
        "\n",
        "        0-Dimensional tensor => scalar\n",
        "\n",
        "        1-Dimensional tensor => vector\n",
        "\n",
        "        2-Dimensional tensor => matrix\n",
        "\n",
        "        3-Dimensional tensor => cuboid\n",
        "\n",
        "        n-Dimensional tensor =>  n*n*......*n\n",
        "\n",
        "\n",
        "\n",
        "3.Axis or Dimension\n",
        "    Dimension => No of axes (i.e. if [[[1]]] to access this I will need 3 indexes thus it has dimension of 3.)\n",
        "\n",
        "    QUICK TIP : the length of shape is the dimension\n",
        " 4. Size \n",
        "   \n",
        "   ```tf.size```\n",
        "\n",
        "        Total number of elements in tensor m*n*o\n",
        "\n",
        "\n",
        "Links to resources:\n",
        "https://www.gsrikar.com/2017/06/what-is-tensor-rank-and-tensor-shape.html\n",
        "\n",
        "https://www.kdnuggets.com/2018/05/wtf-tensor.html"
      ]
    },
    {
      "cell_type": "code",
      "metadata": {
        "id": "tC0d8yIggJpe",
        "colab": {
          "base_uri": "https://localhost:8080/"
        },
        "outputId": "58515c89-1f98-4dd1-880c-c86372d1e01f"
      },
      "source": [
        "# Creating Tensors with tf.Variable\n",
        "\n",
        "v = tf.Variable([10,22])\n",
        "v[0].assign(2)\n",
        "v\n"
      ],
      "execution_count": null,
      "outputs": [
        {
          "output_type": "execute_result",
          "data": {
            "text/plain": [
              "<tf.Variable 'Variable:0' shape=(2,) dtype=int32, numpy=array([ 2, 22], dtype=int32)>"
            ]
          },
          "metadata": {
            "tags": []
          },
          "execution_count": 7
        }
      ]
    },
    {
      "cell_type": "code",
      "metadata": {
        "id": "GJLIGKcMhg6X"
      },
      "source": [
        "# Check if you can use assign() with tf.constant\n",
        "c = tf.constant(5)\n",
        "#c.assign(2) # It doesn't exist because it is immutable"
      ],
      "execution_count": null,
      "outputs": []
    },
    {
      "cell_type": "code",
      "metadata": {
        "colab": {
          "base_uri": "https://localhost:8080/"
        },
        "id": "Vmqfe4Dvh9GM",
        "outputId": "cae51f23-91f4-4b69-eba4-84d9b14000a8"
      },
      "source": [
        "# Creating random tensors =>. Tensors of arbitrary size with random numbers\n",
        "random_tensor_1 = tf.random.Generator.from_seed(22)\n",
        "# Seeds are used to generate Pseudo-random numbers\n",
        "random_tensor_1.normal(shape=(3,2))"
      ],
      "execution_count": null,
      "outputs": [
        {
          "output_type": "execute_result",
          "data": {
            "text/plain": [
              "<tf.Tensor: shape=(3, 2), dtype=float32, numpy=\n",
              "array([[-0.7531523 ,  2.0261486 ],\n",
              "       [-0.06997604,  0.85445154],\n",
              "       [ 0.1175475 ,  0.03493892]], dtype=float32)>"
            ]
          },
          "metadata": {
            "tags": []
          },
          "execution_count": 9
        }
      ]
    },
    {
      "cell_type": "code",
      "metadata": {
        "colab": {
          "base_uri": "https://localhost:8080/"
        },
        "id": "KSjTBPOpjTly",
        "outputId": "25c990c1-fda0-43d7-f3ba-813e2ad10ee5"
      },
      "source": [
        "random_tensor_1.normal(shape=(3,2))"
      ],
      "execution_count": null,
      "outputs": [
        {
          "output_type": "execute_result",
          "data": {
            "text/plain": [
              "<tf.Tensor: shape=(3, 2), dtype=float32, numpy=\n",
              "array([[-1.0798842 , -1.9064091 ],\n",
              "       [ 1.3262484 ,  1.3250229 ],\n",
              "       [-0.5515071 , -0.03015503]], dtype=float32)>"
            ]
          },
          "metadata": {
            "tags": []
          },
          "execution_count": 10
        }
      ]
    },
    {
      "cell_type": "code",
      "metadata": {
        "colab": {
          "base_uri": "https://localhost:8080/"
        },
        "id": "Kyo8o47_jy_a",
        "outputId": "bd24eed2-db8e-42de-f45c-109766654ecd"
      },
      "source": [
        "random_tensor_2 = tf.random.Generator.from_seed(22)\n",
        "random_tensor_2.normal(shape=(3,2))"
      ],
      "execution_count": null,
      "outputs": [
        {
          "output_type": "execute_result",
          "data": {
            "text/plain": [
              "<tf.Tensor: shape=(3, 2), dtype=float32, numpy=\n",
              "array([[-0.7531523 ,  2.0261486 ],\n",
              "       [-0.06997604,  0.85445154],\n",
              "       [ 0.1175475 ,  0.03493892]], dtype=float32)>"
            ]
          },
          "metadata": {
            "tags": []
          },
          "execution_count": 11
        }
      ]
    },
    {
      "cell_type": "markdown",
      "metadata": {
        "id": "mrvuqzp7kaiM"
      },
      "source": [
        "This class `tf.random.Generato`r uses a `tf.Variable` to manage its internal state. Every time random numbers are generated, the state of the generator will change.\n",
        "\n",
        "Meaning you if you run it twice the result will vary. (Test it)\n",
        "\n",
        "If the generator is seeded (e.g. created via Generator.from_seed), the random numbers will be determined by the seed, even though different replicas get different numbers. One can think of a random number generated on a replica as a hash of the replica ID and a \"master\" random number that may be common to all replicas. Hence, the whole system is still deterministic.\n",
        "\n",
        "\n",
        "Link to resource: https://www.tensorflow.org/api_docs/python/tf/random/Generator"
      ]
    },
    {
      "cell_type": "markdown",
      "metadata": {
        "id": "_6RNBqxIlQC8"
      },
      "source": [
        "## Shuffling the order of elements in tensor\n",
        "\n",
        "Why?\n",
        "\n",
        "To bring variety in our dataset. \n",
        "\n",
        "What if the first `n` dataset is all one, the model will learn about only those."
      ]
    },
    {
      "cell_type": "code",
      "metadata": {
        "colab": {
          "base_uri": "https://localhost:8080/"
        },
        "id": "fzuz7VxPlVKl",
        "outputId": "92ae9c7c-7e51-4ab4-f997-ef7e8fce3a78"
      },
      "source": [
        "not_shuffled = tf.constant([[1,2,3],[4,5,6]])\n",
        "not_shuffled.ndim"
      ],
      "execution_count": null,
      "outputs": [
        {
          "output_type": "execute_result",
          "data": {
            "text/plain": [
              "2"
            ]
          },
          "metadata": {
            "tags": []
          },
          "execution_count": 12
        }
      ]
    },
    {
      "cell_type": "code",
      "metadata": {
        "colab": {
          "base_uri": "https://localhost:8080/"
        },
        "id": "lJtxwa2GmUnI",
        "outputId": "ff1de60e-78c8-498e-f066-4fc81b1bc6b1"
      },
      "source": [
        "# Global seed\n",
        "tf.random.set_seed(42)\n",
        "# Operation seed\n",
        "tf.random.shuffle(not_shuffled,seed=42)"
      ],
      "execution_count": null,
      "outputs": [
        {
          "output_type": "execute_result",
          "data": {
            "text/plain": [
              "<tf.Tensor: shape=(2, 3), dtype=int32, numpy=\n",
              "array([[4, 5, 6],\n",
              "       [1, 2, 3]], dtype=int32)>"
            ]
          },
          "metadata": {
            "tags": []
          },
          "execution_count": 13
        }
      ]
    },
    {
      "cell_type": "markdown",
      "metadata": {
        "id": "yfxEP2ednR7F"
      },
      "source": [
        "###tf.random.set_seed\n",
        "\n",
        "Operations that rely on a random seed actually derive it from two seeds: the global and operation-level seeds. This sets the global seed.\n",
        "\n",
        "Its interactions with operation-level seeds is as follows:\n",
        "\n",
        "* If neither the global seed nor the operation seed is set: A randomly picked seed is used for this op.\n",
        "\n",
        "* If the global seed is set, but the operation seed is not: The system deterministically picks an operation seed in conjunction with the global seed so that it gets a unique random sequence. Within the same version of tensorflow and user code, this sequence is deterministic. However across different versions, this sequence might change. If the code depends on particular seeds to work, specify both global and operation-level seeds explicitly.\n",
        "\n",
        "* If the operation seed is set, but the global seed is not set: A default global seed and the specified operation seed are used to determine the random sequence.\n",
        "\n",
        "* If both the global and the operation seed are set: Both seeds are used in conjunction to determine the random sequence.\n",
        "\n",
        "\n",
        "Link to resource: https://www.tensorflow.org/api_docs/python/tf/random/set_seed\n"
      ]
    },
    {
      "cell_type": "markdown",
      "metadata": {
        "id": "0XqVEfhynX7l"
      },
      "source": [
        "## Other ways to make tensors"
      ]
    },
    {
      "cell_type": "code",
      "metadata": {
        "colab": {
          "base_uri": "https://localhost:8080/"
        },
        "id": "ew_1g_A5KGAx",
        "outputId": "715a9645-cc6f-4212-b866-ca8e67e37f26"
      },
      "source": [
        "# Tensor of all ones \n",
        "t = tf.ones([1,7])\n",
        "t"
      ],
      "execution_count": null,
      "outputs": [
        {
          "output_type": "execute_result",
          "data": {
            "text/plain": [
              "<tf.Tensor: shape=(1, 7), dtype=float32, numpy=array([[1., 1., 1., 1., 1., 1., 1.]], dtype=float32)>"
            ]
          },
          "metadata": {
            "tags": []
          },
          "execution_count": 14
        }
      ]
    },
    {
      "cell_type": "code",
      "metadata": {
        "colab": {
          "base_uri": "https://localhost:8080/"
        },
        "id": "ojV0XVgLKcef",
        "outputId": "f6ef1537-6344-4b6d-9b57-0c2a9b01c808"
      },
      "source": [
        "# Tensor of all zeros \n",
        "t = tf.zeros([1,7])\n",
        "t"
      ],
      "execution_count": null,
      "outputs": [
        {
          "output_type": "execute_result",
          "data": {
            "text/plain": [
              "<tf.Tensor: shape=(1, 7), dtype=float32, numpy=array([[0., 0., 0., 0., 0., 0., 0.]], dtype=float32)>"
            ]
          },
          "metadata": {
            "tags": []
          },
          "execution_count": 15
        }
      ]
    },
    {
      "cell_type": "code",
      "metadata": {
        "colab": {
          "base_uri": "https://localhost:8080/"
        },
        "id": "TD8YugOXKgpx",
        "outputId": "6aaf5ebe-caf4-4017-d872-4a0d05ea1973"
      },
      "source": [
        "# From numpy arrays\n",
        "import numpy as np\n",
        "\n",
        "np_array = np.arange(1,10,)\n",
        "print(np_array)\n",
        "# matrix are of capitalized\n",
        "X = tf.constant(np_array,shape=(3,3))\n",
        "# lowercase for vector \n",
        "x = tf.constant(np_array,shape=(9))"
      ],
      "execution_count": null,
      "outputs": [
        {
          "output_type": "stream",
          "text": [
            "[1 2 3 4 5 6 7 8 9]\n"
          ],
          "name": "stdout"
        }
      ]
    },
    {
      "cell_type": "markdown",
      "metadata": {
        "id": "pNpvCa3aKkhb"
      },
      "source": [
        "Numpy arrays vs Tensors \n",
        "\n",
        "Tensors can run on GPU (much faster for numerical computing)"
      ]
    },
    {
      "cell_type": "markdown",
      "metadata": {
        "id": "ZXbAXhMTjv2_"
      },
      "source": [
        "### Tensor Operations\n",
        "\n",
        "Note : Opeartions are broadcasted , meaning addition and subsctration will be done for each tensor element"
      ]
    },
    {
      "cell_type": "code",
      "metadata": {
        "colab": {
          "base_uri": "https://localhost:8080/"
        },
        "id": "VQX57_jTkcJg",
        "outputId": "e6292662-002b-4939-fe50-834b0b5ef852"
      },
      "source": [
        "# +, - , / , * \n",
        "\n",
        "t = tf.constant([[2,4],[6,8]])\n",
        "t+10"
      ],
      "execution_count": null,
      "outputs": [
        {
          "output_type": "execute_result",
          "data": {
            "text/plain": [
              "<tf.Tensor: shape=(2, 2), dtype=int32, numpy=\n",
              "array([[12, 14],\n",
              "       [16, 18]], dtype=int32)>"
            ]
          },
          "metadata": {
            "tags": []
          },
          "execution_count": 17
        }
      ]
    },
    {
      "cell_type": "code",
      "metadata": {
        "colab": {
          "base_uri": "https://localhost:8080/"
        },
        "id": "a4DEaue_ky4a",
        "outputId": "b9b0836f-bb98-4447-cbbc-a02498445f91"
      },
      "source": [
        "t-2"
      ],
      "execution_count": null,
      "outputs": [
        {
          "output_type": "execute_result",
          "data": {
            "text/plain": [
              "<tf.Tensor: shape=(2, 2), dtype=int32, numpy=\n",
              "array([[0, 2],\n",
              "       [4, 6]], dtype=int32)>"
            ]
          },
          "metadata": {
            "tags": []
          },
          "execution_count": 18
        }
      ]
    },
    {
      "cell_type": "code",
      "metadata": {
        "colab": {
          "base_uri": "https://localhost:8080/"
        },
        "id": "cpmawI7Yk4Vb",
        "outputId": "9e801b63-c264-467a-c251-6eb64099c0ba"
      },
      "source": [
        "t/2"
      ],
      "execution_count": null,
      "outputs": [
        {
          "output_type": "execute_result",
          "data": {
            "text/plain": [
              "<tf.Tensor: shape=(2, 2), dtype=float64, numpy=\n",
              "array([[1., 2.],\n",
              "       [3., 4.]])>"
            ]
          },
          "metadata": {
            "tags": []
          },
          "execution_count": 19
        }
      ]
    },
    {
      "cell_type": "code",
      "metadata": {
        "colab": {
          "base_uri": "https://localhost:8080/"
        },
        "id": "fXV1d1Eck-ky",
        "outputId": "1c71779a-063c-4a29-e36e-43251748d284"
      },
      "source": [
        "t*2"
      ],
      "execution_count": null,
      "outputs": [
        {
          "output_type": "execute_result",
          "data": {
            "text/plain": [
              "<tf.Tensor: shape=(2, 2), dtype=int32, numpy=\n",
              "array([[ 4,  8],\n",
              "       [12, 16]], dtype=int32)>"
            ]
          },
          "metadata": {
            "tags": []
          },
          "execution_count": 20
        }
      ]
    },
    {
      "cell_type": "code",
      "metadata": {
        "colab": {
          "base_uri": "https://localhost:8080/"
        },
        "id": "FSaOlamylPgA",
        "outputId": "cbdd0f98-2088-4d3f-dd03-71088da563c1"
      },
      "source": [
        "# We can also use built-in tensor flow functions\n",
        "tf.multiply(t,2)"
      ],
      "execution_count": null,
      "outputs": [
        {
          "output_type": "execute_result",
          "data": {
            "text/plain": [
              "<tf.Tensor: shape=(2, 2), dtype=int32, numpy=\n",
              "array([[ 4,  8],\n",
              "       [12, 16]], dtype=int32)>"
            ]
          },
          "metadata": {
            "tags": []
          },
          "execution_count": 21
        }
      ]
    },
    {
      "cell_type": "markdown",
      "metadata": {
        "id": "79rzH6Et0pLM"
      },
      "source": [
        "Using Tensor methods on GPU/TPU might be fast."
      ]
    },
    {
      "cell_type": "code",
      "metadata": {
        "colab": {
          "base_uri": "https://localhost:8080/"
        },
        "id": "LFa0heiFKQ-t",
        "outputId": "49e7f7f3-99ba-40b1-b636-3cb2b2c5727a"
      },
      "source": [
        "# Matrix multiplication using '@' in python\n",
        "t @ t"
      ],
      "execution_count": null,
      "outputs": [
        {
          "output_type": "execute_result",
          "data": {
            "text/plain": [
              "<tf.Tensor: shape=(2, 2), dtype=int32, numpy=\n",
              "array([[28, 40],\n",
              "       [60, 88]], dtype=int32)>"
            ]
          },
          "metadata": {
            "tags": []
          },
          "execution_count": 22
        }
      ]
    },
    {
      "cell_type": "code",
      "metadata": {
        "colab": {
          "base_uri": "https://localhost:8080/"
        },
        "id": "4nrkJOrdKZrd",
        "outputId": "a1a0857c-08fe-4385-a714-52c150c25dc9"
      },
      "source": [
        "tf.matmul(t,t)"
      ],
      "execution_count": null,
      "outputs": [
        {
          "output_type": "execute_result",
          "data": {
            "text/plain": [
              "<tf.Tensor: shape=(2, 2), dtype=int32, numpy=\n",
              "array([[28, 40],\n",
              "       [60, 88]], dtype=int32)>"
            ]
          },
          "metadata": {
            "tags": []
          },
          "execution_count": 23
        }
      ]
    },
    {
      "cell_type": "code",
      "metadata": {
        "colab": {
          "base_uri": "https://localhost:8080/"
        },
        "id": "mLko4NoD34k4",
        "outputId": "42a629ca-bfd3-44c9-f13c-434b3b66733d"
      },
      "source": [
        "# Transpose \n",
        "t,tf.transpose(t)"
      ],
      "execution_count": null,
      "outputs": [
        {
          "output_type": "execute_result",
          "data": {
            "text/plain": [
              "(<tf.Tensor: shape=(2, 2), dtype=int32, numpy=\n",
              " array([[2, 4],\n",
              "        [6, 8]], dtype=int32)>, <tf.Tensor: shape=(2, 2), dtype=int32, numpy=\n",
              " array([[2, 6],\n",
              "        [4, 8]], dtype=int32)>)"
            ]
          },
          "metadata": {
            "tags": []
          },
          "execution_count": 24
        }
      ]
    },
    {
      "cell_type": "code",
      "metadata": {
        "colab": {
          "base_uri": "https://localhost:8080/"
        },
        "id": "ySGxBH2P3-AM",
        "outputId": "a5eb8d2a-fd71-4cbd-faf0-d9bd7b81da4c"
      },
      "source": [
        "# Reshape\n",
        "t,tf.reshape(t,shape=(4))"
      ],
      "execution_count": null,
      "outputs": [
        {
          "output_type": "execute_result",
          "data": {
            "text/plain": [
              "(<tf.Tensor: shape=(2, 2), dtype=int32, numpy=\n",
              " array([[2, 4],\n",
              "        [6, 8]], dtype=int32)>,\n",
              " <tf.Tensor: shape=(4,), dtype=int32, numpy=array([2, 4, 6, 8], dtype=int32)>)"
            ]
          },
          "metadata": {
            "tags": []
          },
          "execution_count": 25
        }
      ]
    },
    {
      "cell_type": "markdown",
      "metadata": {
        "id": "_eSoi1xSTgMp"
      },
      "source": [
        "Changing Tensor Data types"
      ]
    },
    {
      "cell_type": "code",
      "metadata": {
        "colab": {
          "base_uri": "https://localhost:8080/"
        },
        "id": "4XzN6ZoOTi_U",
        "outputId": "214b28bd-b15f-40aa-c39c-eacbd0425172"
      },
      "source": [
        "# Create a new tensor with default datatype (float32)\n",
        "\n",
        "B = tf.constant([2.2,1.8])\n",
        "B.dtype"
      ],
      "execution_count": null,
      "outputs": [
        {
          "output_type": "execute_result",
          "data": {
            "text/plain": [
              "tf.float32"
            ]
          },
          "metadata": {
            "tags": []
          },
          "execution_count": 26
        }
      ]
    },
    {
      "cell_type": "code",
      "metadata": {
        "colab": {
          "base_uri": "https://localhost:8080/"
        },
        "id": "Lz6Eb3OyT2We",
        "outputId": "297bd5d5-b513-40fc-d2ce-f1a939ff3d1a"
      },
      "source": [
        "# Changing from float32 to float16 (Reduced Precision)\n",
        "\n",
        "D= tf.cast(B,dtype=tf.float16)\n",
        "D"
      ],
      "execution_count": null,
      "outputs": [
        {
          "output_type": "execute_result",
          "data": {
            "text/plain": [
              "<tf.Tensor: shape=(2,), dtype=float16, numpy=array([2.2, 1.8], dtype=float16)>"
            ]
          },
          "metadata": {
            "tags": []
          },
          "execution_count": 27
        }
      ]
    },
    {
      "cell_type": "code",
      "metadata": {
        "colab": {
          "base_uri": "https://localhost:8080/"
        },
        "id": "MvUG2PHvUT5V",
        "outputId": "48c996f0-5a2e-447e-a6d5-d5c2c166e794"
      },
      "source": [
        "E = tf.cast(B,dtype=tf.int32)\n",
        "E"
      ],
      "execution_count": null,
      "outputs": [
        {
          "output_type": "execute_result",
          "data": {
            "text/plain": [
              "<tf.Tensor: shape=(2,), dtype=int32, numpy=array([2, 1], dtype=int32)>"
            ]
          },
          "metadata": {
            "tags": []
          },
          "execution_count": 28
        }
      ]
    },
    {
      "cell_type": "code",
      "metadata": {
        "colab": {
          "base_uri": "https://localhost:8080/"
        },
        "id": "u9nZbtH0Uanh",
        "outputId": "18a66034-8373-48ff-c70f-63987b453d18"
      },
      "source": [
        "# Tensor Aggregration (min,max,abs)\n",
        "\n",
        "# TF puts reduce_ in its aggregation function\n",
        "D = tf.constant([-7.10,-10])\n",
        "D\n",
        "\n",
        "# Absolute value\n",
        "tf.abs(D)\n",
        "\n",
        "# Min\n",
        "tf.reduce_min(D)\n",
        "\n",
        "# Max\n",
        "tf.reduce_max(D)\n",
        "# Mean\n",
        "tf.reduce_mean(D)\n",
        "# Sum\n",
        "tf.reduce_sum(D)\n",
        "\n",
        "# Variance\n",
        "tf.math.reduce_variance(D)\n",
        "\n",
        "# S.D.\n",
        "tf.math.reduce_std(D)\n"
      ],
      "execution_count": null,
      "outputs": [
        {
          "output_type": "execute_result",
          "data": {
            "text/plain": [
              "<tf.Tensor: shape=(), dtype=float32, numpy=1.45>"
            ]
          },
          "metadata": {
            "tags": []
          },
          "execution_count": 29
        }
      ]
    },
    {
      "cell_type": "markdown",
      "metadata": {
        "id": "LyU0K3Z1WvQ9"
      },
      "source": [
        "### Find positional Min Max"
      ]
    },
    {
      "cell_type": "code",
      "metadata": {
        "colab": {
          "base_uri": "https://localhost:8080/"
        },
        "id": "wtxN6O15Wxhc",
        "outputId": "84ded4df-e605-4808-85fc-028e57b8ead5"
      },
      "source": [
        "# Creating a new tensor for finding poisitonal min,max\n",
        "tf.random.set_seed(42)\n",
        "F = tf.random.uniform(shape=[50])\n",
        "F"
      ],
      "execution_count": null,
      "outputs": [
        {
          "output_type": "execute_result",
          "data": {
            "text/plain": [
              "<tf.Tensor: shape=(50,), dtype=float32, numpy=\n",
              "array([0.6645621 , 0.44100678, 0.3528825 , 0.46448255, 0.03366041,\n",
              "       0.68467236, 0.74011743, 0.8724445 , 0.22632635, 0.22319686,\n",
              "       0.3103881 , 0.7223358 , 0.13318717, 0.5480639 , 0.5746088 ,\n",
              "       0.8996835 , 0.00946367, 0.5212307 , 0.6345445 , 0.1993283 ,\n",
              "       0.72942245, 0.54583454, 0.10756552, 0.6767061 , 0.6602763 ,\n",
              "       0.33695042, 0.60141766, 0.21062577, 0.8527372 , 0.44062173,\n",
              "       0.9485276 , 0.23752594, 0.81179297, 0.5263394 , 0.494308  ,\n",
              "       0.21612847, 0.8457197 , 0.8718841 , 0.3083862 , 0.6868038 ,\n",
              "       0.23764038, 0.7817228 , 0.9671384 , 0.06870162, 0.79873943,\n",
              "       0.66028714, 0.5871513 , 0.16461694, 0.7381023 , 0.32054043],\n",
              "      dtype=float32)>"
            ]
          },
          "metadata": {
            "tags": []
          },
          "execution_count": 30
        }
      ]
    },
    {
      "cell_type": "code",
      "metadata": {
        "colab": {
          "base_uri": "https://localhost:8080/"
        },
        "id": "4zKdOm2UXsOp",
        "outputId": "1ddc00bb-325a-41d9-c823-e75a03a6bd94"
      },
      "source": [
        "# Find the positional Max\n",
        "tf.argmax(F)\n",
        "np.argmax(F)"
      ],
      "execution_count": null,
      "outputs": [
        {
          "output_type": "execute_result",
          "data": {
            "text/plain": [
              "42"
            ]
          },
          "metadata": {
            "tags": []
          },
          "execution_count": 31
        }
      ]
    },
    {
      "cell_type": "code",
      "metadata": {
        "colab": {
          "base_uri": "https://localhost:8080/"
        },
        "id": "0m6wZFj0X0tD",
        "outputId": "f77317bb-f395-49b4-ddae-69b4757c388c"
      },
      "source": [
        "# Find the minimum pos min\n",
        "\n",
        "tf.argmin(F)\n",
        "np.argmin(F)"
      ],
      "execution_count": null,
      "outputs": [
        {
          "output_type": "execute_result",
          "data": {
            "text/plain": [
              "16"
            ]
          },
          "metadata": {
            "tags": []
          },
          "execution_count": 32
        }
      ]
    },
    {
      "cell_type": "markdown",
      "metadata": {
        "id": "3k0NgPEnX3Fi"
      },
      "source": [
        "## Squeezing a tensor ( removing all single dimentions)\n"
      ]
    },
    {
      "cell_type": "code",
      "metadata": {
        "colab": {
          "base_uri": "https://localhost:8080/"
        },
        "id": "Aszo_ucnYdUz",
        "outputId": "275f13fc-488c-46c5-de29-23adc978f63a"
      },
      "source": [
        "tf.random.set_seed(42)\n",
        "\n",
        "G = tf.constant(tf.random.uniform(shape=[50]),shape=[1,1,1,50])\n",
        "G.shape"
      ],
      "execution_count": null,
      "outputs": [
        {
          "output_type": "execute_result",
          "data": {
            "text/plain": [
              "TensorShape([1, 1, 1, 50])"
            ]
          },
          "metadata": {
            "tags": []
          },
          "execution_count": 33
        }
      ]
    },
    {
      "cell_type": "code",
      "metadata": {
        "colab": {
          "base_uri": "https://localhost:8080/"
        },
        "id": "UdZGcYUjY5Sf",
        "outputId": "acb4cb2b-d6d5-43d6-afd3-a52469ede0fd"
      },
      "source": [
        "G_squeezed = tf.squeeze(G)\n",
        "G_squeezed"
      ],
      "execution_count": null,
      "outputs": [
        {
          "output_type": "execute_result",
          "data": {
            "text/plain": [
              "<tf.Tensor: shape=(50,), dtype=float32, numpy=\n",
              "array([0.6645621 , 0.44100678, 0.3528825 , 0.46448255, 0.03366041,\n",
              "       0.68467236, 0.74011743, 0.8724445 , 0.22632635, 0.22319686,\n",
              "       0.3103881 , 0.7223358 , 0.13318717, 0.5480639 , 0.5746088 ,\n",
              "       0.8996835 , 0.00946367, 0.5212307 , 0.6345445 , 0.1993283 ,\n",
              "       0.72942245, 0.54583454, 0.10756552, 0.6767061 , 0.6602763 ,\n",
              "       0.33695042, 0.60141766, 0.21062577, 0.8527372 , 0.44062173,\n",
              "       0.9485276 , 0.23752594, 0.81179297, 0.5263394 , 0.494308  ,\n",
              "       0.21612847, 0.8457197 , 0.8718841 , 0.3083862 , 0.6868038 ,\n",
              "       0.23764038, 0.7817228 , 0.9671384 , 0.06870162, 0.79873943,\n",
              "       0.66028714, 0.5871513 , 0.16461694, 0.7381023 , 0.32054043],\n",
              "      dtype=float32)>"
            ]
          },
          "metadata": {
            "tags": []
          },
          "execution_count": 34
        }
      ]
    },
    {
      "cell_type": "markdown",
      "metadata": {
        "id": "60u2bzJKcKhR"
      },
      "source": [
        "# One hot encoding"
      ]
    },
    {
      "cell_type": "code",
      "metadata": {
        "colab": {
          "base_uri": "https://localhost:8080/"
        },
        "id": "S4Bu1SIcc0fD",
        "outputId": "ea40b35b-3b1b-476f-a3cd-dc0003c6dfd3"
      },
      "source": [
        "some_list = [0,1,2,3]\n",
        "\n",
        "# one hot encode our list of indices\n",
        "# depth = no of categories\n",
        "\n",
        "tf.one_hot(some_list,depth=4)"
      ],
      "execution_count": null,
      "outputs": [
        {
          "output_type": "execute_result",
          "data": {
            "text/plain": [
              "<tf.Tensor: shape=(4, 4), dtype=float32, numpy=\n",
              "array([[1., 0., 0., 0.],\n",
              "       [0., 1., 0., 0.],\n",
              "       [0., 0., 1., 0.],\n",
              "       [0., 0., 0., 1.]], dtype=float32)>"
            ]
          },
          "metadata": {
            "tags": []
          },
          "execution_count": 35
        }
      ]
    },
    {
      "cell_type": "code",
      "metadata": {
        "colab": {
          "base_uri": "https://localhost:8080/"
        },
        "id": "1POtuLxKdVMR",
        "outputId": "5d40fc2f-80a2-44d2-d4e7-d776861a6365"
      },
      "source": [
        "tf.one_hot(some_list,depth=4,on_value=\"Yes\",off_value=\"No\")"
      ],
      "execution_count": null,
      "outputs": [
        {
          "output_type": "execute_result",
          "data": {
            "text/plain": [
              "<tf.Tensor: shape=(4, 4), dtype=string, numpy=\n",
              "array([[b'Yes', b'No', b'No', b'No'],\n",
              "       [b'No', b'Yes', b'No', b'No'],\n",
              "       [b'No', b'No', b'Yes', b'No'],\n",
              "       [b'No', b'No', b'No', b'Yes']], dtype=object)>"
            ]
          },
          "metadata": {
            "tags": []
          },
          "execution_count": 36
        }
      ]
    },
    {
      "cell_type": "markdown",
      "metadata": {
        "id": "UMM4QuT1eDr-"
      },
      "source": [
        "# Finding access to GPUs"
      ]
    },
    {
      "cell_type": "code",
      "metadata": {
        "colab": {
          "base_uri": "https://localhost:8080/"
        },
        "id": "rSOVahDHeGL6",
        "outputId": "c96e2ee6-4bfc-4d76-8710-2db80e0274b5"
      },
      "source": [
        "tf.config.list_physical_devices()"
      ],
      "execution_count": null,
      "outputs": [
        {
          "output_type": "execute_result",
          "data": {
            "text/plain": [
              "[PhysicalDevice(name='/physical_device:CPU:0', device_type='CPU'),\n",
              " PhysicalDevice(name='/physical_device:GPU:0', device_type='GPU')]"
            ]
          },
          "metadata": {
            "tags": []
          },
          "execution_count": 37
        }
      ]
    },
    {
      "cell_type": "code",
      "metadata": {
        "colab": {
          "base_uri": "https://localhost:8080/"
        },
        "id": "I9KZRzMbegyF",
        "outputId": "c90efbf2-fa77-49a1-ae81-3d01cb38a6f7"
      },
      "source": [
        "!nvidia-smi"
      ],
      "execution_count": null,
      "outputs": [
        {
          "output_type": "stream",
          "text": [
            "Sun Jul 18 11:57:25 2021       \n",
            "+-----------------------------------------------------------------------------+\n",
            "| NVIDIA-SMI 470.42.01    Driver Version: 460.32.03    CUDA Version: 11.2     |\n",
            "|-------------------------------+----------------------+----------------------+\n",
            "| GPU  Name        Persistence-M| Bus-Id        Disp.A | Volatile Uncorr. ECC |\n",
            "| Fan  Temp  Perf  Pwr:Usage/Cap|         Memory-Usage | GPU-Util  Compute M. |\n",
            "|                               |                      |               MIG M. |\n",
            "|===============================+======================+======================|\n",
            "|   0  Tesla T4            Off  | 00000000:00:04.0 Off |                    0 |\n",
            "| N/A   40C    P0    26W /  70W |    224MiB / 15109MiB |      0%      Default |\n",
            "|                               |                      |                  N/A |\n",
            "+-------------------------------+----------------------+----------------------+\n",
            "                                                                               \n",
            "+-----------------------------------------------------------------------------+\n",
            "| Processes:                                                                  |\n",
            "|  GPU   GI   CI        PID   Type   Process name                  GPU Memory |\n",
            "|        ID   ID                                                   Usage      |\n",
            "|=============================================================================|\n",
            "|  No running processes found                                                 |\n",
            "+-----------------------------------------------------------------------------+\n"
          ],
          "name": "stdout"
        }
      ]
    }
  ]
}